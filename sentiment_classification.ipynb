{
  "nbformat": 4,
  "nbformat_minor": 0,
  "metadata": {
    "colab": {
      "provenance": [],
      "gpuType": "T4"
    },
    "kernelspec": {
      "name": "python3",
      "display_name": "Python 3"
    },
    "language_info": {
      "name": "python"
    },
    "accelerator": "GPU",
    "widgets": {
      "application/vnd.jupyter.widget-state+json": {
        "eedf8d40e04c4535a1ae9cc371fcb250": {
          "model_module": "@jupyter-widgets/controls",
          "model_name": "HBoxModel",
          "model_module_version": "1.5.0",
          "state": {
            "_dom_classes": [],
            "_model_module": "@jupyter-widgets/controls",
            "_model_module_version": "1.5.0",
            "_model_name": "HBoxModel",
            "_view_count": null,
            "_view_module": "@jupyter-widgets/controls",
            "_view_module_version": "1.5.0",
            "_view_name": "HBoxView",
            "box_style": "",
            "children": [
              "IPY_MODEL_eca55638916a48b9869ce0806db12edb",
              "IPY_MODEL_0dc2be53dc1740e792c5988b05add7ab",
              "IPY_MODEL_def3a4ed0df24efb977db0f3dba6a85f"
            ],
            "layout": "IPY_MODEL_47480b05103e4ca1b9f3c675905c05de"
          }
        },
        "eca55638916a48b9869ce0806db12edb": {
          "model_module": "@jupyter-widgets/controls",
          "model_name": "HTMLModel",
          "model_module_version": "1.5.0",
          "state": {
            "_dom_classes": [],
            "_model_module": "@jupyter-widgets/controls",
            "_model_module_version": "1.5.0",
            "_model_name": "HTMLModel",
            "_view_count": null,
            "_view_module": "@jupyter-widgets/controls",
            "_view_module_version": "1.5.0",
            "_view_name": "HTMLView",
            "description": "",
            "description_tooltip": null,
            "layout": "IPY_MODEL_5ff66ed060cb4fc58b439b80da27c84a",
            "placeholder": "​",
            "style": "IPY_MODEL_0dbe30ace3fc44d5b975be3fd3af7fc5",
            "value": "pytorch_model.bin: 100%"
          }
        },
        "0dc2be53dc1740e792c5988b05add7ab": {
          "model_module": "@jupyter-widgets/controls",
          "model_name": "FloatProgressModel",
          "model_module_version": "1.5.0",
          "state": {
            "_dom_classes": [],
            "_model_module": "@jupyter-widgets/controls",
            "_model_module_version": "1.5.0",
            "_model_name": "FloatProgressModel",
            "_view_count": null,
            "_view_module": "@jupyter-widgets/controls",
            "_view_module_version": "1.5.0",
            "_view_name": "ProgressView",
            "bar_style": "success",
            "description": "",
            "description_tooltip": null,
            "layout": "IPY_MODEL_ead80b189ff94670a5ed7356e03576ef",
            "max": 1332809049,
            "min": 0,
            "orientation": "horizontal",
            "style": "IPY_MODEL_417e68fde8544f649d7b9e7ac39bcdd2",
            "value": 1332809049
          }
        },
        "def3a4ed0df24efb977db0f3dba6a85f": {
          "model_module": "@jupyter-widgets/controls",
          "model_name": "HTMLModel",
          "model_module_version": "1.5.0",
          "state": {
            "_dom_classes": [],
            "_model_module": "@jupyter-widgets/controls",
            "_model_module_version": "1.5.0",
            "_model_name": "HTMLModel",
            "_view_count": null,
            "_view_module": "@jupyter-widgets/controls",
            "_view_module_version": "1.5.0",
            "_view_name": "HTMLView",
            "description": "",
            "description_tooltip": null,
            "layout": "IPY_MODEL_4f0ab497c4e141b99dc2f7f3fd371cfd",
            "placeholder": "​",
            "style": "IPY_MODEL_1ef9822bee7c4588983c631011fb1137",
            "value": " 1.33G/1.33G [00:12&lt;00:00, 150MB/s]"
          }
        },
        "47480b05103e4ca1b9f3c675905c05de": {
          "model_module": "@jupyter-widgets/base",
          "model_name": "LayoutModel",
          "model_module_version": "1.2.0",
          "state": {
            "_model_module": "@jupyter-widgets/base",
            "_model_module_version": "1.2.0",
            "_model_name": "LayoutModel",
            "_view_count": null,
            "_view_module": "@jupyter-widgets/base",
            "_view_module_version": "1.2.0",
            "_view_name": "LayoutView",
            "align_content": null,
            "align_items": null,
            "align_self": null,
            "border": null,
            "bottom": null,
            "display": null,
            "flex": null,
            "flex_flow": null,
            "grid_area": null,
            "grid_auto_columns": null,
            "grid_auto_flow": null,
            "grid_auto_rows": null,
            "grid_column": null,
            "grid_gap": null,
            "grid_row": null,
            "grid_template_areas": null,
            "grid_template_columns": null,
            "grid_template_rows": null,
            "height": null,
            "justify_content": null,
            "justify_items": null,
            "left": null,
            "margin": null,
            "max_height": null,
            "max_width": null,
            "min_height": null,
            "min_width": null,
            "object_fit": null,
            "object_position": null,
            "order": null,
            "overflow": null,
            "overflow_x": null,
            "overflow_y": null,
            "padding": null,
            "right": null,
            "top": null,
            "visibility": null,
            "width": null
          }
        },
        "5ff66ed060cb4fc58b439b80da27c84a": {
          "model_module": "@jupyter-widgets/base",
          "model_name": "LayoutModel",
          "model_module_version": "1.2.0",
          "state": {
            "_model_module": "@jupyter-widgets/base",
            "_model_module_version": "1.2.0",
            "_model_name": "LayoutModel",
            "_view_count": null,
            "_view_module": "@jupyter-widgets/base",
            "_view_module_version": "1.2.0",
            "_view_name": "LayoutView",
            "align_content": null,
            "align_items": null,
            "align_self": null,
            "border": null,
            "bottom": null,
            "display": null,
            "flex": null,
            "flex_flow": null,
            "grid_area": null,
            "grid_auto_columns": null,
            "grid_auto_flow": null,
            "grid_auto_rows": null,
            "grid_column": null,
            "grid_gap": null,
            "grid_row": null,
            "grid_template_areas": null,
            "grid_template_columns": null,
            "grid_template_rows": null,
            "height": null,
            "justify_content": null,
            "justify_items": null,
            "left": null,
            "margin": null,
            "max_height": null,
            "max_width": null,
            "min_height": null,
            "min_width": null,
            "object_fit": null,
            "object_position": null,
            "order": null,
            "overflow": null,
            "overflow_x": null,
            "overflow_y": null,
            "padding": null,
            "right": null,
            "top": null,
            "visibility": null,
            "width": null
          }
        },
        "0dbe30ace3fc44d5b975be3fd3af7fc5": {
          "model_module": "@jupyter-widgets/controls",
          "model_name": "DescriptionStyleModel",
          "model_module_version": "1.5.0",
          "state": {
            "_model_module": "@jupyter-widgets/controls",
            "_model_module_version": "1.5.0",
            "_model_name": "DescriptionStyleModel",
            "_view_count": null,
            "_view_module": "@jupyter-widgets/base",
            "_view_module_version": "1.2.0",
            "_view_name": "StyleView",
            "description_width": ""
          }
        },
        "ead80b189ff94670a5ed7356e03576ef": {
          "model_module": "@jupyter-widgets/base",
          "model_name": "LayoutModel",
          "model_module_version": "1.2.0",
          "state": {
            "_model_module": "@jupyter-widgets/base",
            "_model_module_version": "1.2.0",
            "_model_name": "LayoutModel",
            "_view_count": null,
            "_view_module": "@jupyter-widgets/base",
            "_view_module_version": "1.2.0",
            "_view_name": "LayoutView",
            "align_content": null,
            "align_items": null,
            "align_self": null,
            "border": null,
            "bottom": null,
            "display": null,
            "flex": null,
            "flex_flow": null,
            "grid_area": null,
            "grid_auto_columns": null,
            "grid_auto_flow": null,
            "grid_auto_rows": null,
            "grid_column": null,
            "grid_gap": null,
            "grid_row": null,
            "grid_template_areas": null,
            "grid_template_columns": null,
            "grid_template_rows": null,
            "height": null,
            "justify_content": null,
            "justify_items": null,
            "left": null,
            "margin": null,
            "max_height": null,
            "max_width": null,
            "min_height": null,
            "min_width": null,
            "object_fit": null,
            "object_position": null,
            "order": null,
            "overflow": null,
            "overflow_x": null,
            "overflow_y": null,
            "padding": null,
            "right": null,
            "top": null,
            "visibility": null,
            "width": null
          }
        },
        "417e68fde8544f649d7b9e7ac39bcdd2": {
          "model_module": "@jupyter-widgets/controls",
          "model_name": "ProgressStyleModel",
          "model_module_version": "1.5.0",
          "state": {
            "_model_module": "@jupyter-widgets/controls",
            "_model_module_version": "1.5.0",
            "_model_name": "ProgressStyleModel",
            "_view_count": null,
            "_view_module": "@jupyter-widgets/base",
            "_view_module_version": "1.2.0",
            "_view_name": "StyleView",
            "bar_color": null,
            "description_width": ""
          }
        },
        "4f0ab497c4e141b99dc2f7f3fd371cfd": {
          "model_module": "@jupyter-widgets/base",
          "model_name": "LayoutModel",
          "model_module_version": "1.2.0",
          "state": {
            "_model_module": "@jupyter-widgets/base",
            "_model_module_version": "1.2.0",
            "_model_name": "LayoutModel",
            "_view_count": null,
            "_view_module": "@jupyter-widgets/base",
            "_view_module_version": "1.2.0",
            "_view_name": "LayoutView",
            "align_content": null,
            "align_items": null,
            "align_self": null,
            "border": null,
            "bottom": null,
            "display": null,
            "flex": null,
            "flex_flow": null,
            "grid_area": null,
            "grid_auto_columns": null,
            "grid_auto_flow": null,
            "grid_auto_rows": null,
            "grid_column": null,
            "grid_gap": null,
            "grid_row": null,
            "grid_template_areas": null,
            "grid_template_columns": null,
            "grid_template_rows": null,
            "height": null,
            "justify_content": null,
            "justify_items": null,
            "left": null,
            "margin": null,
            "max_height": null,
            "max_width": null,
            "min_height": null,
            "min_width": null,
            "object_fit": null,
            "object_position": null,
            "order": null,
            "overflow": null,
            "overflow_x": null,
            "overflow_y": null,
            "padding": null,
            "right": null,
            "top": null,
            "visibility": null,
            "width": null
          }
        },
        "1ef9822bee7c4588983c631011fb1137": {
          "model_module": "@jupyter-widgets/controls",
          "model_name": "DescriptionStyleModel",
          "model_module_version": "1.5.0",
          "state": {
            "_model_module": "@jupyter-widgets/controls",
            "_model_module_version": "1.5.0",
            "_model_name": "DescriptionStyleModel",
            "_view_count": null,
            "_view_module": "@jupyter-widgets/base",
            "_view_module_version": "1.2.0",
            "_view_name": "StyleView",
            "description_width": ""
          }
        }
      }
    }
  },
  "cells": [
    {
      "cell_type": "code",
      "execution_count": 1,
      "metadata": {
        "colab": {
          "base_uri": "https://localhost:8080/"
        },
        "id": "5Ic495Ra5ano",
        "outputId": "ce266b69-ade1-4807-920a-253ccc43d08a"
      },
      "outputs": [
        {
          "output_type": "stream",
          "name": "stdout",
          "text": [
            "Mounted at /content/drive\n"
          ]
        }
      ],
      "source": [
        "from google.colab import drive\n",
        "drive.mount('/content/drive', force_remount=True)"
      ]
    },
    {
      "cell_type": "code",
      "execution_count": 2,
      "metadata": {
        "colab": {
          "base_uri": "https://localhost:8080/"
        },
        "id": "eqZ_VkvY5drF",
        "outputId": "cb3673a6-5b3e-409b-9dd5-2fc91093299e"
      },
      "outputs": [
        {
          "output_type": "stream",
          "name": "stdout",
          "text": [
            "\u001b[?25l     \u001b[90m━━━━━━━━━━━━━━━━━━━━━━━━━━━━━━━━━━━━━━━━\u001b[0m \u001b[32m0.0/43.6 kB\u001b[0m \u001b[31m?\u001b[0m eta \u001b[36m-:--:--\u001b[0m\r\u001b[2K     \u001b[90m━━━━━━━━━━━━━━━━━━━━━━━━━━━━━━━━━━━━━━━━\u001b[0m \u001b[32m43.6/43.6 kB\u001b[0m \u001b[31m2.3 MB/s\u001b[0m eta \u001b[36m0:00:00\u001b[0m\n",
            "\u001b[?25h  Preparing metadata (setup.py) ... \u001b[?25l\u001b[?25hdone\n",
            "\u001b[2K   \u001b[90m━━━━━━━━━━━━━━━━━━━━━━━━━━━━━━━━━━━━━━━━\u001b[0m \u001b[32m472.7/472.7 kB\u001b[0m \u001b[31m14.4 MB/s\u001b[0m eta \u001b[36m0:00:00\u001b[0m\n",
            "\u001b[2K   \u001b[90m━━━━━━━━━━━━━━━━━━━━━━━━━━━━━━━━━━━━━━━━\u001b[0m \u001b[32m116.3/116.3 kB\u001b[0m \u001b[31m8.2 MB/s\u001b[0m eta \u001b[36m0:00:00\u001b[0m\n",
            "\u001b[2K   \u001b[90m━━━━━━━━━━━━━━━━━━━━━━━━━━━━━━━━━━━━━━━━\u001b[0m \u001b[32m134.8/134.8 kB\u001b[0m \u001b[31m11.0 MB/s\u001b[0m eta \u001b[36m0:00:00\u001b[0m\n",
            "\u001b[2K   \u001b[90m━━━━━━━━━━━━━━━━━━━━━━━━━━━━━━━━━━━━━━━━\u001b[0m \u001b[32m194.1/194.1 kB\u001b[0m \u001b[31m13.9 MB/s\u001b[0m eta \u001b[36m0:00:00\u001b[0m\n",
            "\u001b[?25h  Building wheel for seqeval (setup.py) ... \u001b[?25l\u001b[?25hdone\n"
          ]
        }
      ],
      "source": [
        "!pip install datasets seqeval --quiet"
      ]
    },
    {
      "cell_type": "code",
      "execution_count": 13,
      "metadata": {
        "id": "BlnvUqTYU2XE"
      },
      "outputs": [],
      "source": [
        "import os\n",
        "os.environ['WANDB_DISABLED'] = 'true'"
      ]
    },
    {
      "cell_type": "code",
      "execution_count": 14,
      "metadata": {
        "id": "rpSdV9Z65fSr"
      },
      "outputs": [],
      "source": [
        "from collections import defaultdict\n",
        "from tqdm import tqdm\n",
        "import numpy as np\n",
        "import pandas as pd\n",
        "from datasets import Dataset\n",
        "from transformers import AutoModelForTokenClassification, AutoTokenizer\n",
        "from transformers import DataCollatorForTokenClassification, Trainer, TrainingArguments\n",
        "from sklearn.metrics import accuracy_score, f1_score\n",
        "from seqeval.metrics import classification_report"
      ]
    },
    {
      "cell_type": "code",
      "execution_count": 15,
      "metadata": {
        "id": "fVl4f9s25qaR"
      },
      "outputs": [],
      "source": [
        "reviews = {}\n",
        "with open('drive/MyDrive/colab/aspect_project/full_train/train_reviews.txt', encoding='utf-8') as f:\n",
        "  for line in f:\n",
        "    line = line.rstrip('\\r\\n').split('\\t')\n",
        "    reviews[line[0]] = line[1]"
      ]
    },
    {
      "cell_type": "code",
      "execution_count": 16,
      "metadata": {
        "id": "9WKt22E65wDu"
      },
      "outputs": [],
      "source": [
        "aspects = defaultdict(list)\n",
        "with open('drive/MyDrive/colab/aspect_project/full_train/train_aspects.txt', encoding='utf-8') as f:\n",
        "  for line in f:\n",
        "    line = line.rstrip('\\r\\n').split('\\t')\n",
        "    keys = ('category', 'mention', 'start', 'end', 'sentiment')\n",
        "    aspects[line[0]].append(dict(zip(keys, line[1:])))"
      ]
    },
    {
      "cell_type": "code",
      "execution_count": 17,
      "metadata": {
        "id": "k8d9E9h-5y_J"
      },
      "outputs": [],
      "source": [
        "tags = ['O']\n",
        "categories = ['Whole', 'Service', 'Food', 'Interior', 'Price']\n",
        "for category in categories:\n",
        "    tags.append('B-'+category)\n",
        "    tags.append('I-'+category)\n",
        "tag2id = {tag: ind for ind, tag in enumerate(tags)}\n",
        "id2tag = {ind: tag for ind, tag in enumerate(tags)}"
      ]
    },
    {
      "cell_type": "code",
      "source": [
        "tokenizer = AutoTokenizer.from_pretrained('microsoft/mdeberta-v3-base', use_fast=True)"
      ],
      "metadata": {
        "id": "JOoXthDOp_bE",
        "colab": {
          "base_uri": "https://localhost:8080/"
        },
        "outputId": "1058ffb4-4366-49fd-9cac-f5034d715aae"
      },
      "execution_count": 18,
      "outputs": [
        {
          "output_type": "stream",
          "name": "stderr",
          "text": [
            "/usr/local/lib/python3.10/dist-packages/transformers/tokenization_utils_base.py:1601: FutureWarning: `clean_up_tokenization_spaces` was not set. It will be set to `True` by default. This behavior will be depracted in transformers v4.45, and will be then set to `False` by default. For more details check this issue: https://github.com/huggingface/transformers/issues/31884\n",
            "  warnings.warn(\n",
            "/usr/local/lib/python3.10/dist-packages/transformers/convert_slow_tokenizer.py:551: UserWarning: The sentencepiece tokenizer that you are converting to a fast tokenizer uses the byte fallback option which is not implemented in the fast tokenizers. In practice this means that the fast version of the tokenizer can produce unknown tokens whereas the sentencepiece version would have converted these unknown tokens into a sequence of byte tokens matching the original piece of text.\n",
            "  warnings.warn(\n"
          ]
        }
      ]
    },
    {
      "cell_type": "code",
      "execution_count": 19,
      "metadata": {
        "id": "gYB6peLwffk8"
      },
      "outputs": [],
      "source": [
        "def tokenize_and_align_labels(reviews, aspects):\n",
        "    all_input_ids = []\n",
        "    all_labels = []\n",
        "    for text_id, text in tqdm(reviews.items()):\n",
        "        labels = []\n",
        "        tokenized = tokenizer(text, return_offsets_mapping=True)\n",
        "        tokens = tokenized.tokens()\n",
        "        offsets = tokenized['offset_mapping']\n",
        "        for i in range(len(tokens)):\n",
        "            add = False\n",
        "            if tokens[i].startswith('▁') and tokens[i] != '▁':\n",
        "                shift = 1\n",
        "            else:\n",
        "                shift = 0\n",
        "            for mention in aspects[text_id]:\n",
        "                if offsets[i][0] + shift == int(mention['start']):\n",
        "                    labels.append(tag2id['B-'+mention['category']])\n",
        "                    add = True\n",
        "                    break\n",
        "                elif offsets[i][0] + shift < int(mention['end']) and offsets[i][0] + shift > int(mention['start']):\n",
        "                    labels.append(tag2id['I-'+mention['category']])\n",
        "                    add = True\n",
        "                    break\n",
        "            if not add:\n",
        "                labels.append(tag2id['O'])\n",
        "        all_input_ids.append(tokenized['input_ids'])\n",
        "        all_labels.append(labels)\n",
        "    return all_input_ids, all_labels"
      ]
    },
    {
      "cell_type": "code",
      "execution_count": 20,
      "metadata": {
        "colab": {
          "base_uri": "https://localhost:8080/"
        },
        "id": "QxohzFSH7JOu",
        "outputId": "71401404-6536-4e2f-c0e7-39bf11f9bd66"
      },
      "outputs": [
        {
          "output_type": "stream",
          "name": "stderr",
          "text": [
            "100%|██████████| 284/284 [00:02<00:00, 120.47it/s]\n"
          ]
        }
      ],
      "source": [
        "all_tokens, all_labels = tokenize_and_align_labels(reviews, aspects)"
      ]
    },
    {
      "cell_type": "code",
      "execution_count": 21,
      "metadata": {
        "id": "BKYA0kAQ7936"
      },
      "outputs": [],
      "source": [
        "train_size = round(0.9 * len(all_tokens))"
      ]
    },
    {
      "cell_type": "code",
      "execution_count": 22,
      "metadata": {
        "id": "pugbadfZCbzJ"
      },
      "outputs": [],
      "source": [
        "df = pd.DataFrame({'input_ids': all_tokens, 'labels': all_labels})"
      ]
    },
    {
      "cell_type": "code",
      "execution_count": 23,
      "metadata": {
        "id": "zXZIYSHPCv5i"
      },
      "outputs": [],
      "source": [
        "train_df = df[:train_size]\n",
        "val_df = df[train_size:]\n",
        "\n",
        "train_dataset = Dataset.from_pandas(train_df)\n",
        "val_dataset = Dataset.from_pandas(val_df)"
      ]
    },
    {
      "cell_type": "code",
      "execution_count": 24,
      "metadata": {
        "colab": {
          "base_uri": "https://localhost:8080/",
          "height": 104,
          "referenced_widgets": [
            "eedf8d40e04c4535a1ae9cc371fcb250",
            "eca55638916a48b9869ce0806db12edb",
            "0dc2be53dc1740e792c5988b05add7ab",
            "def3a4ed0df24efb977db0f3dba6a85f",
            "47480b05103e4ca1b9f3c675905c05de",
            "5ff66ed060cb4fc58b439b80da27c84a",
            "0dbe30ace3fc44d5b975be3fd3af7fc5",
            "ead80b189ff94670a5ed7356e03576ef",
            "417e68fde8544f649d7b9e7ac39bcdd2",
            "4f0ab497c4e141b99dc2f7f3fd371cfd",
            "1ef9822bee7c4588983c631011fb1137"
          ]
        },
        "id": "Tdhw-kqkGYdX",
        "outputId": "539f1235-1f99-4737-a967-09541a7f5d41"
      },
      "outputs": [
        {
          "output_type": "display_data",
          "data": {
            "text/plain": [
              "pytorch_model.bin:   0%|          | 0.00/1.33G [00:00<?, ?B/s]"
            ],
            "application/vnd.jupyter.widget-view+json": {
              "version_major": 2,
              "version_minor": 0,
              "model_id": "eedf8d40e04c4535a1ae9cc371fcb250"
            }
          },
          "metadata": {}
        },
        {
          "output_type": "stream",
          "name": "stderr",
          "text": [
            "Some weights of DebertaV2ForTokenClassification were not initialized from the model checkpoint at microsoft/mdeberta-v3-base and are newly initialized: ['classifier.bias', 'classifier.weight']\n",
            "You should probably TRAIN this model on a down-stream task to be able to use it for predictions and inference.\n"
          ]
        }
      ],
      "source": [
        "model = AutoModelForTokenClassification.from_pretrained(\"microsoft/mdeberta-v3-base\", num_labels=len(tags))"
      ]
    },
    {
      "cell_type": "code",
      "execution_count": 25,
      "metadata": {
        "id": "0RpOQWFcFN_H"
      },
      "outputs": [],
      "source": [
        "data_collator = DataCollatorForTokenClassification(tokenizer=tokenizer, padding='longest')"
      ]
    },
    {
      "cell_type": "code",
      "execution_count": 26,
      "metadata": {
        "id": "H4y-svVhFnAS"
      },
      "outputs": [],
      "source": [
        "def count_metrics(p):\n",
        "    preds, labels = p\n",
        "    preds_flat = np.argmax(preds, axis=-1).flatten()\n",
        "    labels_flat = labels.flatten()\n",
        "    indices = np.where(labels_flat != -100)\n",
        "    preds_flat = preds_flat[indices]\n",
        "    labels_flat = labels_flat[indices]\n",
        "\n",
        "    accuracy = accuracy_score(preds_flat, labels_flat)\n",
        "    f1_mic = f1_score(preds_flat, labels_flat, average='micro')\n",
        "    f1_mac = f1_score(preds_flat, labels_flat, average='macro')\n",
        "\n",
        "    return {'accuracy': accuracy, 'f1_micro': f1_mic, 'f1_macro': f1_mac}"
      ]
    },
    {
      "cell_type": "code",
      "execution_count": 27,
      "metadata": {
        "colab": {
          "base_uri": "https://localhost:8080/"
        },
        "id": "wfg-gGB2F8aA",
        "outputId": "0658621c-1eb4-406b-9c6a-75700cff550d"
      },
      "outputs": [
        {
          "output_type": "stream",
          "name": "stderr",
          "text": [
            "/usr/local/lib/python3.10/dist-packages/transformers/training_args.py:1525: FutureWarning: `evaluation_strategy` is deprecated and will be removed in version 4.46 of 🤗 Transformers. Use `eval_strategy` instead\n",
            "  warnings.warn(\n",
            "Using the `WANDB_DISABLED` environment variable is deprecated and will be removed in v5. Use the --report_to flag to control the integrations used for logging result (for instance --report_to none).\n"
          ]
        }
      ],
      "source": [
        "training_args = TrainingArguments(\n",
        "    output_dir = './results',\n",
        "    num_train_epochs = 7,\n",
        "    per_device_train_batch_size = 4,\n",
        "    per_device_eval_batch_size = 4,\n",
        "    weight_decay = 0.00,\n",
        "    learning_rate = 5e-5,\n",
        "    warmup_steps = 0,\n",
        "    evaluation_strategy ='epoch',\n",
        "    save_strategy = 'no',\n",
        "    report_to=None)"
      ]
    },
    {
      "cell_type": "code",
      "execution_count": 28,
      "metadata": {
        "id": "DuSIMF5UGMUa"
      },
      "outputs": [],
      "source": [
        "trainer = Trainer(model=model,\n",
        "                  tokenizer = tokenizer,\n",
        "                  args = training_args,\n",
        "                  train_dataset = train_dataset,\n",
        "                  eval_dataset = val_dataset,\n",
        "                  data_collator=data_collator,\n",
        "                  compute_metrics = count_metrics)"
      ]
    },
    {
      "cell_type": "code",
      "execution_count": 29,
      "metadata": {
        "colab": {
          "base_uri": "https://localhost:8080/",
          "height": 329
        },
        "id": "b3UWCVA0tVGy",
        "outputId": "31c72eee-a274-43b7-e9e5-8f89d0b01015"
      },
      "outputs": [
        {
          "output_type": "display_data",
          "data": {
            "text/plain": [
              "<IPython.core.display.HTML object>"
            ],
            "text/html": [
              "\n",
              "    <div>\n",
              "      \n",
              "      <progress value='448' max='448' style='width:300px; height:20px; vertical-align: middle;'></progress>\n",
              "      [448/448 03:38, Epoch 7/7]\n",
              "    </div>\n",
              "    <table border=\"1\" class=\"dataframe\">\n",
              "  <thead>\n",
              " <tr style=\"text-align: left;\">\n",
              "      <th>Epoch</th>\n",
              "      <th>Training Loss</th>\n",
              "      <th>Validation Loss</th>\n",
              "      <th>Accuracy</th>\n",
              "      <th>F1 Micro</th>\n",
              "      <th>F1 Macro</th>\n",
              "    </tr>\n",
              "  </thead>\n",
              "  <tbody>\n",
              "    <tr>\n",
              "      <td>1</td>\n",
              "      <td>No log</td>\n",
              "      <td>0.296575</td>\n",
              "      <td>0.919854</td>\n",
              "      <td>0.919854</td>\n",
              "      <td>0.576918</td>\n",
              "    </tr>\n",
              "    <tr>\n",
              "      <td>2</td>\n",
              "      <td>No log</td>\n",
              "      <td>0.213752</td>\n",
              "      <td>0.933977</td>\n",
              "      <td>0.933977</td>\n",
              "      <td>0.753379</td>\n",
              "    </tr>\n",
              "    <tr>\n",
              "      <td>3</td>\n",
              "      <td>No log</td>\n",
              "      <td>0.199928</td>\n",
              "      <td>0.943156</td>\n",
              "      <td>0.943156</td>\n",
              "      <td>0.766029</td>\n",
              "    </tr>\n",
              "    <tr>\n",
              "      <td>4</td>\n",
              "      <td>No log</td>\n",
              "      <td>0.235186</td>\n",
              "      <td>0.938802</td>\n",
              "      <td>0.938802</td>\n",
              "      <td>0.779718</td>\n",
              "    </tr>\n",
              "    <tr>\n",
              "      <td>5</td>\n",
              "      <td>No log</td>\n",
              "      <td>0.236896</td>\n",
              "      <td>0.941156</td>\n",
              "      <td>0.941156</td>\n",
              "      <td>0.782337</td>\n",
              "    </tr>\n",
              "    <tr>\n",
              "      <td>6</td>\n",
              "      <td>No log</td>\n",
              "      <td>0.263020</td>\n",
              "      <td>0.937978</td>\n",
              "      <td>0.937978</td>\n",
              "      <td>0.760469</td>\n",
              "    </tr>\n",
              "    <tr>\n",
              "      <td>7</td>\n",
              "      <td>No log</td>\n",
              "      <td>0.261478</td>\n",
              "      <td>0.940097</td>\n",
              "      <td>0.940097</td>\n",
              "      <td>0.768791</td>\n",
              "    </tr>\n",
              "  </tbody>\n",
              "</table><p>"
            ]
          },
          "metadata": {}
        },
        {
          "output_type": "execute_result",
          "data": {
            "text/plain": [
              "TrainOutput(global_step=448, training_loss=0.1450563669204712, metrics={'train_runtime': 220.4076, 'train_samples_per_second': 8.13, 'train_steps_per_second': 2.033, 'total_flos': 338843718147480.0, 'train_loss': 0.1450563669204712, 'epoch': 7.0})"
            ]
          },
          "metadata": {},
          "execution_count": 29
        }
      ],
      "source": [
        "trainer.train()"
      ]
    },
    {
      "cell_type": "code",
      "execution_count": 21,
      "metadata": {
        "id": "8JfCT2yXtZWK"
      },
      "outputs": [],
      "source": [
        "model.save_pretrained('aspect_class_bert_model', from_pt=True)"
      ]
    },
    {
      "cell_type": "code",
      "source": [],
      "metadata": {
        "id": "aLGvVRBzshVK"
      },
      "execution_count": null,
      "outputs": []
    }
  ]
}